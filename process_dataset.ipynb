{
 "cells": [
  {
   "cell_type": "code",
   "execution_count": 5,
   "metadata": {},
   "outputs": [],
   "source": [
    "import numpy as np\n",
    "import pandas as pd\n",
    "import matplotlib.pyplot as plt\n",
    "NROWS = 10000 # Количество загружаемых строк из датасета\n",
    "\n",
    "df = pd.read_json('Datasets/yelp_academic_dataset_review.json', lines=True, nrows=NROWS)\n",
    "\n",
    "df = df[['text','stars']]"
   ]
  },
  {
   "cell_type": "code",
   "execution_count": 6,
   "metadata": {},
   "outputs": [
    {
     "data": {
      "image/png": "[encoded data removed]",
      "text/plain": [
       "<Figure size 640x480 with 1 Axes>"
      ]
     },
     "metadata": {},
     "output_type": "display_data"
    }
   ],
   "source": [
    "df['stars'].hist(bins=[1, 2, 3, 4, 5, 6], align='left', rwidth=0.8)\n",
    "\n",
    "plt.title(\"Распределение по классам\")\n",
    "plt.xticks(range(1,6))\n",
    "plt.grid(False)\n",
    "plt.savefig(\"Plots/dataset_hist.png\")"
   ]
  },
  {
   "cell_type": "code",
   "execution_count": 7,
   "metadata": {},
   "outputs": [],
   "source": [
    "import nltk\n",
    "#nltk.download('stopwords') <- использовать при первом запуске\n",
    "from nltk.corpus import stopwords\n",
    "from nltk.stem.porter import PorterStemmer\n",
    "\n",
    "import re\n",
    "import json"
   ]
  },
  {
   "cell_type": "code",
   "execution_count": 12,
   "metadata": {},
   "outputs": [],
   "source": [
    "def clean_dataset(df):\n",
    "    corpus = []\n",
    "\n",
    "    for i in range(NROWS):\n",
    "        # Оставляем только символы алфавита\n",
    "        text = re.sub('[^a-zA-Z]', ' ', df['text'][i])\n",
    "\n",
    "        text = text.lower()\n",
    "        text = text.split()\n",
    "        \n",
    "        text = [word for word in text]\n",
    "        text = ' '.join(text)\n",
    "        \n",
    "        corpus.append(text)\n",
    "        \n",
    "    ratings = df.iloc[:, 1].values\n",
    "\n",
    "    processed_dataset = [{\"text\": text, \"rating\": float(rating)} for text, rating in zip(corpus, ratings)]\n",
    "\n",
    "    with open(\"Datasets/cleaned_dataset.json\", \"w\") as f:\n",
    "        json.dump(processed_dataset, f)"
   ]
  },
  {
   "cell_type": "code",
   "execution_count": 9,
   "metadata": {},
   "outputs": [],
   "source": [
    "def preprocess_dataset(df):\n",
    "    stemmer = PorterStemmer()\n",
    "    corpus = []\n",
    "\n",
    "    for i in range(NROWS):\n",
    "        # Оставляем только символы алфавита\n",
    "        text = re.sub('[^a-zA-Z]', ' ', df['text'][i])\n",
    "\n",
    "        text = text.lower()\n",
    "        text = text.split()\n",
    "        \n",
    "        stemmed_text = [stemmer.stem(word) for word in text if not word in set(stopwords.words('english'))]\n",
    "        stemmed_text = ' '.join(stemmed_text)\n",
    "        \n",
    "        corpus.append(stemmed_text)\n",
    "        \n",
    "    ratings = df.iloc[:, 1].values\n",
    "\n",
    "    processed_dataset = [{\"text\": text, \"rating\": float(rating)} for text, rating in zip(corpus, ratings)]\n",
    "\n",
    "    with open(\"Datasets/processed_dataset.json\", \"w\") as f:\n",
    "        json.dump(processed_dataset, f)"
   ]
  },
  {
   "cell_type": "code",
   "execution_count": 10,
   "metadata": {},
   "outputs": [],
   "source": [
    "preprocess_dataset(df)"
   ]
  },
  {
   "cell_type": "code",
   "execution_count": 11,
   "metadata": {},
   "outputs": [],
   "source": [
    "clean_dataset(df)"
   ]
  }
 ],
 "metadata": {
  "kernelspec": {
   "display_name": "Python 3",
   "language": "python",
   "name": "python3"
  },
  "language_info": {
   "codemirror_mode": {
    "name": "ipython",
    "version": 3
   },
   "file_extension": ".py",
   "mimetype": "text/x-python",
   "name": "python",
   "nbconvert_exporter": "python",
   "pygments_lexer": "ipython3",
   "version": "3.12.3"
  }
 },
 "nbformat": 4,
 "nbformat_minor": 2
}
