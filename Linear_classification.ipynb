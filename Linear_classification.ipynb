{
 "cells": [
  {
   "cell_type": "code",
   "execution_count": 80,
   "metadata": {},
   "outputs": [],
   "source": [
    "import numpy as np\n",
    "import pandas as pd"
   ]
  },
  {
   "cell_type": "code",
   "execution_count": 81,
   "metadata": {},
   "outputs": [],
   "source": [
    "# Чтение из файла JSON в DataFrame\n",
    "processed_df = pd.read_json(\"Datasets/processed_dataset.json\")\n",
    "corpus = processed_df['text'].values\n",
    "ratings = processed_df['rating'].values"
   ]
  },
  {
   "cell_type": "code",
   "execution_count": 82,
   "metadata": {},
   "outputs": [],
   "source": [
    "from sklearn.feature_extraction.text import TfidfVectorizer\n",
    "from sklearn.model_selection import train_test_split\n",
    "\n",
    "MAX_FEATURES = 1500\n",
    "\n",
    "vectorizer = TfidfVectorizer(max_features=MAX_FEATURES, min_df=3, max_df=0.6)\n",
    "\n",
    "x = vectorizer.fit_transform(corpus).toarray()\n",
    "y = ratings\n",
    "\n",
    "X_train, X_test, y_train, y_test = train_test_split(x, y, test_size=0.20, random_state=0)\n",
    "X_validation, y_validation = X_test[0:len(X_test)//2], y_test[0:len(y_test)//2]"
   ]
  },
  {
   "cell_type": "code",
   "execution_count": 83,
   "metadata": {},
   "outputs": [
    {
     "name": "stdout",
     "output_type": "stream",
     "text": [
      "cuda\n"
     ]
    }
   ],
   "source": [
    "import torch\n",
    "import torch.nn as nn\n",
    "from torch.nn import functional as F\n",
    "import torch.optim as optim\n",
    "from sklearn.metrics import accuracy_score\n",
    "\n",
    "device = torch.device('cuda' if torch.cuda.is_available() else 'cpu')\n",
    "print(device)"
   ]
  },
  {
   "cell_type": "code",
   "execution_count": 84,
   "metadata": {},
   "outputs": [],
   "source": [
    "X_train_tensor = torch.from_numpy(X_train).float()\n",
    "X_validation_tensor = torch.from_numpy(X_validation).float()\n",
    "X_test_tensor = torch.from_numpy(X_test).float()\n",
    "\n",
    "y_train_tensor = torch.from_numpy(y_train) - 1\n",
    "y_validation_tensor = torch.from_numpy(y_validation) - 1\n",
    "y_test_tensor = torch.from_numpy(y_test) - 1"
   ]
  },
  {
   "cell_type": "code",
   "execution_count": 85,
   "metadata": {},
   "outputs": [],
   "source": [
    "class Linear_model(nn.Module):\n",
    "    def __init__(self, output_size = 5, hidden_size = 5):\n",
    "        super(Linear_model, self).__init__()\n",
    "        self.fc1 = torch.nn.Linear(MAX_FEATURES, hidden_size)\n",
    "        self.fc2 = torch.nn.Linear(hidden_size, hidden_size)\n",
    "        self.fc3 = torch.nn.Linear(hidden_size, output_size)\n",
    "        \n",
    "    def forward(self, x):\n",
    "        x = torch.relu((self.fc1(x)))\n",
    "        x = torch.relu((self.fc2(x)))\n",
    "        x = self.fc3(x)\n",
    "        \n",
    "        return F.log_softmax(x, dim=1)"
   ]
  },
  {
   "cell_type": "code",
   "execution_count": 86,
   "metadata": {},
   "outputs": [],
   "source": [
    "import matplotlib.pyplot as plt\n",
    "import time\n",
    "\n",
    "def train(\n",
    "    model,\n",
    "    X_train_tensor, \n",
    "    y_train_tensor, \n",
    "    X_val_tensor,\n",
    "    y_val_tensor,\n",
    "    optimizer, \n",
    "    criterion, \n",
    "    epochs = 100, \n",
    "    print_process = True\n",
    "    ):\n",
    "    \n",
    "    loss_history = np.zeros(epochs)\n",
    "    acc_history = np.zeros(epochs)\n",
    "    \n",
    "    start_time = time.time()\n",
    "    \n",
    "    for epoch in range(epochs):\n",
    "        \n",
    "        X_train_tensor = X_train_tensor.to(device)\n",
    "        y_train_tensor = y_train_tensor.to(device)\n",
    "        optimizer.zero_grad()\n",
    "        \n",
    "        Ypred = model(X_train_tensor).to(device)\n",
    "        \n",
    "        loss = criterion(Ypred, y_train_tensor)\n",
    "        loss_history[epoch] = loss\n",
    "        \n",
    "        loss.backward()\n",
    "        optimizer.step()\n",
    "        \n",
    "        with torch.no_grad():\n",
    "            X_val_tensor = X_val_tensor.to(device)\n",
    "            y_val_tensor = y_val_tensor.to(device)\n",
    "            \n",
    "            Ypred_val = model(X_val_tensor).to(device)\n",
    "            \n",
    "            accuracy = accuracy_score(y_val_tensor.cpu(), torch.argmax(Ypred_val, dim=1).cpu())\n",
    "            acc_history[epoch] = accuracy\n",
    "         \n",
    "        if print_process:\n",
    "            print(f\"Epoch: {epoch}, loss: {loss.item()}, accuracy: {accuracy}\")\n",
    "\n",
    "    end_time = time.time()\n",
    "    \n",
    "    x = np.linspace(1, epochs, epochs)\n",
    "    \n",
    "    plt.plot(x, loss_history, label=\"loss\")\n",
    "    plt.plot(x, acc_history, label=\"accuracy\")\n",
    "\n",
    "    plt.xlabel('epoch')\n",
    "    plt.legend()\n",
    "    \n",
    "    plt.savefig('Plots/Linear_loss.png')\n",
    "    \n",
    "    print(f\"Training time: {end_time - start_time} seconds\")\n",
    "    print(f\"Loss delta: {loss_history[0] - loss}\")\n",
    "    \n",
    "def predict(sample, model):\n",
    "    sample = vectorizer.transform(sample).toarray().to(device)\n",
    "    prediction = model(torch.from_numpy(sample).float())\n",
    "    \n",
    "    return torch.argmax(prediction, dim=1).cpu()\n",
    "\n",
    "def evaluate(model, X_test_tensor, y_test_tensor):\n",
    "    X_test_tensor = X_test_tensor.to(device)\n",
    "    y_test_tensor = y_test_tensor.to(device)\n",
    "    \n",
    "    Ypred = model(X_test_tensor)\n",
    "\n",
    "    accuracy = accuracy_score(y_test_tensor.cpu(), torch.argmax(Ypred, dim=1).cpu())\n",
    "\n",
    "    return accuracy"
   ]
  },
  {
   "cell_type": "code",
   "execution_count": 94,
   "metadata": {},
   "outputs": [
    {
     "name": "stdout",
     "output_type": "stream",
     "text": [
      "Training time: 1.6866674423217773 seconds\n",
      "Loss delta: 1.683000087738037\n"
     ]
    },
    {
     "data": {
      "image/png": "[encoded data removed]",
      "text/plain": [
       "<Figure size 640x480 with 1 Axes>"
      ]
     },
     "metadata": {},
     "output_type": "display_data"
    }
   ],
   "source": [
    "model = Linear_model()\n",
    "model.to(device)\n",
    "\n",
    "optimizer = torch.optim.Adam(model.parameters(), lr=0.01)\n",
    "criterion = nn.CrossEntropyLoss()\n",
    "\n",
    "train(\n",
    "    model,\n",
    "    X_train_tensor,\n",
    "    y_train_tensor,\n",
    "    X_validation_tensor,\n",
    "    y_validation_tensor,\n",
    "    optimizer,\n",
    "    criterion,\n",
    "    1000,\n",
    "    False)\n",
    "\n",
    "torch.save(model.state_dict(), 'Linear_model.pth')"
   ]
  },
  {
   "cell_type": "code",
   "execution_count": 95,
   "metadata": {},
   "outputs": [
    {
     "data": {
      "text/plain": [
       "0.492"
      ]
     },
     "execution_count": 95,
     "metadata": {},
     "output_type": "execute_result"
    }
   ],
   "source": [
    "evaluate(model, X_test_tensor, y_test_tensor)"
   ]
  }
 ],
 "metadata": {
  "kernelspec": {
   "display_name": "Python 3",
   "language": "python",
   "name": "python3"
  },
  "language_info": {
   "codemirror_mode": {
    "name": "ipython",
    "version": 3
   },
   "file_extension": ".py",
   "mimetype": "text/x-python",
   "name": "python",
   "nbconvert_exporter": "python",
   "pygments_lexer": "ipython3",
   "version": "3.12.3"
  }
 },
 "nbformat": 4,
 "nbformat_minor": 2
}
