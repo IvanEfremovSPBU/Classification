{
 "cells": [
  {
   "cell_type": "code",
   "execution_count": 63,
   "metadata": {},
   "outputs": [],
   "source": [
    "import json\n",
    "import torch\n",
    "from torch import nn\n",
    "from torch.utils.data import Dataset, DataLoader\n",
    "from transformers import AutoTokenizer\n",
    "from torch.nn.utils.rnn import pad_sequence\n",
    "import numpy as np\n",
    "import matplotlib.pyplot as plt\n",
    "import time"
   ]
  },
  {
   "cell_type": "code",
   "execution_count": 64,
   "metadata": {},
   "outputs": [
    {
     "name": "stdout",
     "output_type": "stream",
     "text": [
      "cuda\n"
     ]
    }
   ],
   "source": [
    "device = torch.device('cuda' if torch.cuda.is_available() else 'cpu')\n",
    "\n",
    "print(device)"
   ]
  },
  {
   "cell_type": "code",
   "execution_count": 78,
   "metadata": {},
   "outputs": [],
   "source": [
    "with open('Datasets/processed_dataset.json', 'r') as f:\n",
    "    data = json.load(f)\n",
    "\n",
    "# Получение текста и рейтинга\n",
    "texts = [entry['text'] for entry in data]\n",
    "ratings = [entry['rating'] - 1 for entry in data]"
   ]
  },
  {
   "cell_type": "code",
   "execution_count": 66,
   "metadata": {},
   "outputs": [
    {
     "name": "stdout",
     "output_type": "stream",
     "text": [
      "8000 2000\n"
     ]
    }
   ],
   "source": [
    "X_train, y_train = texts[:8000], ratings[:8000]\n",
    "X_test, y_test = texts[8000:], ratings[8000:]\n",
    "print(len(X_train), len(X_test))"
   ]
  },
  {
   "cell_type": "code",
   "execution_count": 67,
   "metadata": {},
   "outputs": [],
   "source": [
    "# Создание токенизатора для модели BERT\n",
    "tokenizer = AutoTokenizer.from_pretrained('bert-base-uncased')\n",
    "\n",
    "# Токенизация текстов\n",
    "tokenized_texts = tokenizer(X_train, padding='max_length', truncation=True, return_tensors='pt')\n",
    "\n",
    "# Получение токенизированных текстов\n",
    "input_ids = tokenized_texts['input_ids']\n"
   ]
  },
  {
   "cell_type": "code",
   "execution_count": 68,
   "metadata": {},
   "outputs": [],
   "source": [
    "# Создание класса Dataset\n",
    "class TextDataset(Dataset):\n",
    "    def __init__(self, input_ids, ratings):\n",
    "        self.input_ids = input_ids\n",
    "        self.ratings = torch.tensor(ratings, dtype=torch.long)\n",
    "\n",
    "    def __len__(self):\n",
    "        return len(self.input_ids)\n",
    "\n",
    "    def __getitem__(self, idx):\n",
    "        return self.input_ids[idx], self.ratings[idx]\n"
   ]
  },
  {
   "cell_type": "code",
   "execution_count": 69,
   "metadata": {},
   "outputs": [
    {
     "name": "stdout",
     "output_type": "stream",
     "text": [
      "30522\n"
     ]
    }
   ],
   "source": [
    "# Создание объекта Dataset\n",
    "dataset = TextDataset(input_ids, y_train)\n",
    "\n",
    "# Создание DataLoader\n",
    "dataloader = DataLoader(dataset, batch_size=128, shuffle=True)\n",
    "\n",
    "# Определение размеров словаря и эмбеддингов\n",
    "vocabulaire_size2 = tokenizer.vocab_size\n",
    "embedding_dim = 128\n",
    "print(vocabulaire_size2)"
   ]
  },
  {
   "cell_type": "code",
   "execution_count": 70,
   "metadata": {},
   "outputs": [],
   "source": [
    "class LSTM_model(nn.Module):\n",
    "    def __init__(self, vocabulaire_size2, embedding_dim, hidden_size1=128, hidden_size2=64):\n",
    "        super(LSTM_model, self).__init__()\n",
    "        self.embedding = nn.Embedding(vocabulaire_size2, embedding_dim)\n",
    "        \n",
    "        self.lstm1 = nn.LSTM(embedding_dim, hidden_size1, bidirectional=True, batch_first=True)\n",
    "        self.lstm2 = nn.LSTM(hidden_size1 * 2, hidden_size2, bidirectional=True, batch_first=True)\n",
    "        \n",
    "        self.dropout = nn.Dropout(0.2)\n",
    "        \n",
    "        self.dense = nn.Linear(hidden_size2 * 2, 5) # Выходной слой для 5 классов рейтинга\n",
    "        self.softmax = nn.Softmax(dim=1)\n",
    "\n",
    "        # Инициализация весов\n",
    "        nn.init.xavier_uniform_(self.embedding.weight)\n",
    "        nn.init.xavier_uniform_(self.lstm1.weight_ih_l0)\n",
    "        nn.init.xavier_uniform_(self.lstm1.weight_hh_l0)\n",
    "        nn.init.xavier_uniform_(self.lstm2.weight_ih_l0)\n",
    "        nn.init.xavier_uniform_(self.lstm2.weight_hh_l0)\n",
    "        nn.init.xavier_uniform_(self.dense.weight)\n",
    "    \n",
    "    def forward(self, x):\n",
    "        x = self.embedding(x)\n",
    "        x, _ = self.lstm1(x)\n",
    "        x, _ = self.lstm2(x)\n",
    "        x = self.dropout(x)\n",
    "        x = x[:, -1, :]  # Используем только последний hidden state\n",
    "        x = self.dropout(x)\n",
    "        x = self.dense(x)\n",
    "        x = self.softmax(x)\n",
    "        return x"
   ]
  },
  {
   "cell_type": "code",
   "execution_count": 71,
   "metadata": {},
   "outputs": [
    {
     "data": {
      "text/plain": [
       "LSTM_model(\n",
       "  (embedding): Embedding(30522, 128)\n",
       "  (lstm1): LSTM(128, 128, batch_first=True, bidirectional=True)\n",
       "  (lstm2): LSTM(256, 64, batch_first=True, bidirectional=True)\n",
       "  (dropout): Dropout(p=0.2, inplace=False)\n",
       "  (dense): Linear(in_features=128, out_features=5, bias=True)\n",
       "  (softmax): Softmax(dim=1)\n",
       ")"
      ]
     },
     "execution_count": 71,
     "metadata": {},
     "output_type": "execute_result"
    }
   ],
   "source": [
    "model = LSTM_model(vocabulaire_size2, embedding_dim)\n",
    "model.to(device)"
   ]
  },
  {
   "cell_type": "code",
   "execution_count": 72,
   "metadata": {},
   "outputs": [],
   "source": [
    "optimizer = torch.optim.SGD(model.parameters())\n",
    "criterion = nn.CrossEntropyLoss()"
   ]
  },
  {
   "cell_type": "code",
   "execution_count": 73,
   "metadata": {},
   "outputs": [],
   "source": [
    "def train_model(model, dataloader, optimizer, criterion, epochs=10):\n",
    "    \n",
    "    loss_history = np.zeros(epochs)\n",
    "    acc_history = np.zeros(epochs)\n",
    "    \n",
    "    start_time = time.time()\n",
    "    \n",
    "    for epoch in range(epochs):\n",
    "        \n",
    "        running_loss = 0.0\n",
    "        correct = 0\n",
    "        total = 0\n",
    "        \n",
    "        for batch_idx, (data, target) in enumerate(dataloader):  # Используем enumerate\n",
    "            data = data.to(device)\n",
    "            target = target.to(device)\n",
    "\n",
    "            optimizer.zero_grad()\n",
    "\n",
    "            outputs = model(data)\n",
    "\n",
    "            loss = criterion(outputs, target)\n",
    "            loss.backward()\n",
    "\n",
    "            optimizer.step()\n",
    "\n",
    "\n",
    "            running_loss += loss.item()\n",
    "\n",
    "            _, predicted = torch.max(outputs.data, 1)\n",
    "            total += target.size(0)\n",
    "            correct += (predicted == target).sum().item()\n",
    "\n",
    "        epoch_loss = running_loss/len(dataloader)\n",
    "        epoch_accuracy = correct/total\n",
    "        \n",
    "        loss_history[epoch] = epoch_loss\n",
    "        acc_history[epoch] = epoch_accuracy\n",
    "        \n",
    "        print(f'Epoch {epoch+1} | Loss: {running_loss/len(dataloader):.4f} | Accuracy: {epoch_accuracy}')\n",
    "    \n",
    "    print(f\"Training time: {time.time() - start_time} seconds\")\n",
    "    print(f\"Final acc: {epoch_accuracy}\")\n",
    "    print(f\"Loss delta: {loss_history[0] - epoch_loss}\")\n",
    "    \n",
    "    plt.plot(loss_history, label=\"Loss\")\n",
    "    plt.plot(acc_history, label=\"Accuracy\")\n",
    "    plt.xlabel(\"Epoch\")\n",
    "\n",
    "    plt.legend()\n",
    "\n",
    "    plt.savefig(\"Plots/LSTM_loss.png\")\n",
    "    \n",
    "    \n",
    "def evaluate(model, val_loader):\n",
    "    correct = 0\n",
    "    total = 0\n",
    "    \n",
    "    with torch.no_grad():\n",
    "        for data, target in val_loader:\n",
    "            data = data.to(device)\n",
    "            target = target.to(device)\n",
    "\n",
    "            output = model(data)\n",
    "            \n",
    "            predicted = torch.round(output.squeeze())\n",
    "            correct += (predicted == target).sum().item()\n",
    "            total += target.size(0)\n",
    "        \n",
    "        accuracy = correct / total\n",
    "    \n",
    "    return accuracy"
   ]
  },
  {
   "cell_type": "code",
   "execution_count": 74,
   "metadata": {},
   "outputs": [
    {
     "name": "stdout",
     "output_type": "stream",
     "text": [
      "Epoch 1 | Loss: 1.6149 | Accuracy: 0.11225\n",
      "Epoch 2 | Loss: 1.6144 | Accuracy: 0.1195\n",
      "Epoch 3 | Loss: 1.6138 | Accuracy: 0.122625\n",
      "Epoch 4 | Loss: 1.6132 | Accuracy: 0.1285\n",
      "Epoch 5 | Loss: 1.6127 | Accuracy: 0.134375\n",
      "Epoch 6 | Loss: 1.6121 | Accuracy: 0.14725\n",
      "Epoch 7 | Loss: 1.6115 | Accuracy: 0.153625\n",
      "Epoch 8 | Loss: 1.6109 | Accuracy: 0.1665\n",
      "Epoch 9 | Loss: 1.6105 | Accuracy: 0.174375\n",
      "Epoch 10 | Loss: 1.6098 | Accuracy: 0.197625\n",
      "Epoch 11 | Loss: 1.6096 | Accuracy: 0.204125\n",
      "Epoch 12 | Loss: 1.6087 | Accuracy: 0.22625\n",
      "Epoch 13 | Loss: 1.6082 | Accuracy: 0.2405\n",
      "Epoch 14 | Loss: 1.6077 | Accuracy: 0.252375\n",
      "Epoch 15 | Loss: 1.6070 | Accuracy: 0.269\n",
      "Epoch 16 | Loss: 1.6063 | Accuracy: 0.291375\n",
      "Epoch 17 | Loss: 1.6058 | Accuracy: 0.309625\n",
      "Epoch 18 | Loss: 1.6054 | Accuracy: 0.316625\n",
      "Epoch 19 | Loss: 1.6047 | Accuracy: 0.33575\n",
      "Epoch 20 | Loss: 1.6040 | Accuracy: 0.352\n",
      "Epoch 21 | Loss: 1.6035 | Accuracy: 0.361625\n",
      "Epoch 22 | Loss: 1.6029 | Accuracy: 0.370125\n",
      "Epoch 23 | Loss: 1.6025 | Accuracy: 0.38575\n",
      "Epoch 24 | Loss: 1.6017 | Accuracy: 0.39075\n",
      "Epoch 25 | Loss: 1.6011 | Accuracy: 0.402375\n",
      "Epoch 26 | Loss: 1.6006 | Accuracy: 0.407625\n",
      "Epoch 27 | Loss: 1.6000 | Accuracy: 0.414375\n",
      "Epoch 28 | Loss: 1.5995 | Accuracy: 0.41575\n",
      "Epoch 29 | Loss: 1.5986 | Accuracy: 0.4245\n",
      "Epoch 30 | Loss: 1.5982 | Accuracy: 0.431625\n",
      "Epoch 31 | Loss: 1.5975 | Accuracy: 0.4305\n",
      "Epoch 32 | Loss: 1.5969 | Accuracy: 0.431125\n",
      "Epoch 33 | Loss: 1.5963 | Accuracy: 0.433125\n",
      "Epoch 34 | Loss: 1.5958 | Accuracy: 0.435375\n",
      "Epoch 35 | Loss: 1.5949 | Accuracy: 0.439125\n",
      "Epoch 36 | Loss: 1.5946 | Accuracy: 0.439375\n",
      "Epoch 37 | Loss: 1.5939 | Accuracy: 0.442125\n",
      "Epoch 38 | Loss: 1.5932 | Accuracy: 0.443625\n",
      "Epoch 39 | Loss: 1.5924 | Accuracy: 0.44275\n",
      "Epoch 40 | Loss: 1.5918 | Accuracy: 0.443125\n",
      "Epoch 41 | Loss: 1.5911 | Accuracy: 0.445125\n",
      "Epoch 42 | Loss: 1.5905 | Accuracy: 0.444875\n",
      "Epoch 43 | Loss: 1.5900 | Accuracy: 0.44525\n",
      "Epoch 44 | Loss: 1.5894 | Accuracy: 0.44425\n",
      "Epoch 45 | Loss: 1.5885 | Accuracy: 0.445125\n",
      "Epoch 46 | Loss: 1.5880 | Accuracy: 0.444375\n",
      "Epoch 47 | Loss: 1.5873 | Accuracy: 0.44525\n",
      "Epoch 48 | Loss: 1.5870 | Accuracy: 0.445125\n",
      "Epoch 49 | Loss: 1.5860 | Accuracy: 0.445125\n",
      "Epoch 50 | Loss: 1.5853 | Accuracy: 0.44525\n",
      "Epoch 51 | Loss: 1.5847 | Accuracy: 0.44525\n",
      "Epoch 52 | Loss: 1.5839 | Accuracy: 0.44525\n",
      "Epoch 53 | Loss: 1.5833 | Accuracy: 0.44525\n",
      "Epoch 54 | Loss: 1.5825 | Accuracy: 0.44525\n",
      "Epoch 55 | Loss: 1.5820 | Accuracy: 0.44525\n",
      "Epoch 56 | Loss: 1.5811 | Accuracy: 0.44525\n",
      "Epoch 57 | Loss: 1.5806 | Accuracy: 0.44525\n",
      "Epoch 58 | Loss: 1.5797 | Accuracy: 0.44525\n",
      "Epoch 59 | Loss: 1.5793 | Accuracy: 0.44525\n",
      "Epoch 60 | Loss: 1.5785 | Accuracy: 0.44525\n",
      "Epoch 61 | Loss: 1.5780 | Accuracy: 0.44525\n",
      "Epoch 62 | Loss: 1.5774 | Accuracy: 0.44525\n",
      "Epoch 63 | Loss: 1.5762 | Accuracy: 0.44525\n",
      "Epoch 64 | Loss: 1.5760 | Accuracy: 0.44525\n",
      "Epoch 65 | Loss: 1.5751 | Accuracy: 0.44525\n",
      "Epoch 66 | Loss: 1.5743 | Accuracy: 0.44525\n",
      "Epoch 67 | Loss: 1.5735 | Accuracy: 0.44525\n",
      "Epoch 68 | Loss: 1.5730 | Accuracy: 0.44525\n",
      "Epoch 69 | Loss: 1.5721 | Accuracy: 0.44525\n",
      "Epoch 70 | Loss: 1.5717 | Accuracy: 0.44525\n",
      "Epoch 71 | Loss: 1.5708 | Accuracy: 0.44525\n",
      "Epoch 72 | Loss: 1.5702 | Accuracy: 0.44525\n",
      "Epoch 73 | Loss: 1.5693 | Accuracy: 0.44525\n",
      "Epoch 74 | Loss: 1.5684 | Accuracy: 0.44525\n",
      "Epoch 75 | Loss: 1.5682 | Accuracy: 0.44525\n",
      "Epoch 76 | Loss: 1.5671 | Accuracy: 0.44525\n",
      "Epoch 77 | Loss: 1.5664 | Accuracy: 0.44525\n",
      "Epoch 78 | Loss: 1.5657 | Accuracy: 0.44525\n",
      "Epoch 79 | Loss: 1.5650 | Accuracy: 0.44525\n",
      "Epoch 80 | Loss: 1.5642 | Accuracy: 0.44525\n",
      "Epoch 81 | Loss: 1.5634 | Accuracy: 0.44525\n",
      "Epoch 82 | Loss: 1.5629 | Accuracy: 0.44525\n",
      "Epoch 83 | Loss: 1.5618 | Accuracy: 0.44525\n",
      "Epoch 84 | Loss: 1.5617 | Accuracy: 0.44525\n",
      "Epoch 85 | Loss: 1.5604 | Accuracy: 0.44525\n",
      "Epoch 86 | Loss: 1.5597 | Accuracy: 0.44525\n",
      "Epoch 87 | Loss: 1.5589 | Accuracy: 0.44525\n",
      "Epoch 88 | Loss: 1.5584 | Accuracy: 0.44525\n",
      "Epoch 89 | Loss: 1.5580 | Accuracy: 0.44525\n",
      "Epoch 90 | Loss: 1.5569 | Accuracy: 0.44525\n",
      "Epoch 91 | Loss: 1.5562 | Accuracy: 0.44525\n",
      "Epoch 92 | Loss: 1.5555 | Accuracy: 0.44525\n",
      "Epoch 93 | Loss: 1.5546 | Accuracy: 0.44525\n",
      "Epoch 94 | Loss: 1.5538 | Accuracy: 0.44525\n",
      "Epoch 95 | Loss: 1.5530 | Accuracy: 0.44525\n",
      "Epoch 96 | Loss: 1.5523 | Accuracy: 0.44525\n",
      "Epoch 97 | Loss: 1.5518 | Accuracy: 0.44525\n",
      "Epoch 98 | Loss: 1.5510 | Accuracy: 0.44525\n",
      "Epoch 99 | Loss: 1.5501 | Accuracy: 0.44525\n",
      "Epoch 100 | Loss: 1.5496 | Accuracy: 0.44525\n",
      "Training time: 221.1994502544403 seconds\n",
      "Final acc: 0.44525\n",
      "Loss delta: 0.06533608550117131\n"
     ]
    },
    {
     "data": {
      "image/png": "[encoded data removed]",
      "text/plain": [
       "<Figure size 640x480 with 1 Axes>"
      ]
     },
     "metadata": {},
     "output_type": "display_data"
    }
   ],
   "source": [
    "train_model(model, dataloader, optimizer, criterion, epochs=100)\n",
    "torch.save(model.state_dict(), 'LSTM_model.pth')"
   ]
  },
  {
   "cell_type": "code",
   "execution_count": 75,
   "metadata": {},
   "outputs": [],
   "source": [
    "texts = X_test\n",
    "ratings = y_test"
   ]
  },
  {
   "cell_type": "code",
   "execution_count": 76,
   "metadata": {},
   "outputs": [],
   "source": [
    "def predict(text, rating):\n",
    "    inputs = tokenizer(text, padding='max_length', truncation=True, return_tensors='pt')\n",
    "\n",
    "    inputs = inputs.to(device)\n",
    "\n",
    "    with torch.no_grad():\n",
    "        outputs = model(inputs['input_ids'])\n",
    "        predicted_rating = torch.argmax(outputs).item()\n",
    "\n",
    "    return predicted_rating"
   ]
  },
  {
   "cell_type": "code",
   "execution_count": 77,
   "metadata": {},
   "outputs": [
    {
     "name": "stdout",
     "output_type": "stream",
     "text": [
      "0.4415\n"
     ]
    }
   ],
   "source": [
    "total = 0\n",
    "correct = 0\n",
    "\n",
    "for i in range(len(texts)):\n",
    "    pred = predict(texts[i], ratings[i])\n",
    "    \n",
    "    correct += (pred == ratings[i])\n",
    "    total += 1\n",
    "    \n",
    "print(correct/total)"
   ]
  }
 ],
 "metadata": {
  "kernelspec": {
   "display_name": "Python 3",
   "language": "python",
   "name": "python3"
  },
  "language_info": {
   "codemirror_mode": {
    "name": "ipython",
    "version": 3
   },
   "file_extension": ".py",
   "mimetype": "text/x-python",
   "name": "python",
   "nbconvert_exporter": "python",
   "pygments_lexer": "ipython3",
   "version": "3.12.3"
  }
 },
 "nbformat": 4,
 "nbformat_minor": 2
}
